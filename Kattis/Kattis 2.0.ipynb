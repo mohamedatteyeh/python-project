{
 "cells": [
  {
   "cell_type": "markdown",
   "metadata": {},
   "source": [
    "### Cold-puter Science"
   ]
  },
  {
   "cell_type": "code",
   "execution_count": null,
   "metadata": {},
   "outputs": [],
   "source": [
    "collections = input()\n",
    "temps = input().split(' ')\n",
    "number = 0\n",
    "for i in temps:\n",
    "    i = int(i)\n",
    "    if i < 0:\n",
    "        number+=1"
   ]
  },
  {
   "cell_type": "markdown",
   "metadata": {},
   "source": [
    "### 2048"
   ]
  },
  {
   "cell_type": "code",
   "execution_count": null,
   "metadata": {},
   "outputs": [],
   "source": [
    "matri = []\n",
    "#\n",
    "#for i in range(4):\n",
    "        #matri.append(input().split())"
   ]
  },
  {
   "cell_type": "code",
   "execution_count": null,
   "metadata": {},
   "outputs": [],
   "source": [
    "matri = [['2', '0', '0', '2'], ['4', '16', '8', '2'], ['2', '64', '32', '4'], ['1024', '1024', '64', '0']]\n",
    "matri = [list(map(int,i)) for i in matri]\n",
    "directions = {'left':0,'up':1,'right':2,'down':3}\n",
    "movement = matri[-1][0]\n"
   ]
  },
  {
   "cell_type": "code",
   "execution_count": null,
   "metadata": {},
   "outputs": [],
   "source": [
    "# row operations using python \n",
    "list1= []\n",
    "for i in range(1,4):\n",
    "    for j in range(4):\n",
    "        list1.append(matri[i-1][j]+matri[i][j])\n",
    "\n",
    "print(list1)\n"
   ]
  },
  {
   "cell_type": "markdown",
   "metadata": {},
   "source": [
    "### 10 kinds of people"
   ]
  },
  {
   "cell_type": "code",
   "execution_count": 35,
   "metadata": {},
   "outputs": [
    {
     "name": "stdout",
     "output_type": "stream",
     "text": [
      "binary\n",
      "decimal\n",
      "neither\n"
     ]
    }
   ],
   "source": [
    "from pprint import pprint \n",
    "from copy import deepcopy\n",
    "\n",
    "r,c = [int(i) for i in input().split()]\n",
    "\n",
    "def binrary_map(rows):\n",
    "    topography_1 = []\n",
    "    for i in range (rows):\n",
    "        mapping = map(int,list(input()))\n",
    "        topography_1.append(list(list(mapping)))\n",
    "    \n",
    "    return topography_1\n",
    "\n",
    "topography = binrary_map(r)\n",
    "\n",
    "# Here i folded and just gonna use a flood fill algorithm with a twist \n",
    "def flood_fill_with_a_twist (ix,iy,new_value,initial_value):\n",
    "\n",
    "    if ix < 0 or ix >= r or iy < 0 or iy >= c:\n",
    "        return \n",
    "\n",
    "    if m[ix][iy] != initial_value :\n",
    "        return\n",
    "\n",
    "    m[ix][iy] = new_value\n",
    "\n",
    "    flood_fill_with_a_twist(ix+1, iy,new_value,initial_value)\n",
    "    flood_fill_with_a_twist(ix-1, iy,new_value,initial_value)\n",
    "    flood_fill_with_a_twist(ix, iy+1,new_value,initial_value)\n",
    "    flood_fill_with_a_twist(ix, iy-1,new_value,initial_value)\n",
    "\n",
    "def final_answer(new_value,ix,iy,tx,ty):\n",
    "    if m[ix][iy] == m[tx][ty]:\n",
    "        if topography[tx][ty] == 1:\n",
    "            print('decimal')\n",
    "    \n",
    "        elif topography[tx][ty] == 0:\n",
    "            print('binary')\n",
    "    else:\n",
    "         print ('neither')\n",
    "\n",
    "number_of_walkers = int(input())\n",
    "new_value = 2\n",
    "a = topography[0][0]\n",
    "\n",
    "for i in range(number_of_walkers): \n",
    "    m = deepcopy(topography)\n",
    "    ix,iy,tx,ty = [int(i)-1 for i in input().split()]\n",
    "    flood_fill_with_a_twist(ix=ix,iy=iy,new_value=new_value,\n",
    "    initial_value= a)\n",
    "    print(m)\n",
    "    final_answer(new_value=new_value,ix=ix,iy=iy,tx=tx,ty=ty)\n",
    "    print(topography)"
   ]
  },
  {
   "cell_type": "code",
   "execution_count": null,
   "metadata": {},
   "outputs": [],
   "source": [
    "\"\"\"\n",
    "\n",
    "        \n",
    "\n",
    "\n",
    "n = int(input())\n",
    "for i in range(n):\n",
    "    #p1 = topography[y1-1][x1-1]\n",
    "    #p2 = topography[y2-1][x2-1]\n",
    "    for x in range (c-x1-1):\n",
    "        for y in range(r-y1):\n",
    "            #if topography[x+x1-11][y+y1-1] == topography[x+x1][y+y1]:\n",
    "            #print(topography[x+x1-1][y+y1-1],topography[x+x1][y+y1])\n",
    "            \n",
    "    if  a == b :\n",
    "        if a == 1:\n",
    "            print(a,b)\n",
    "            print('decimal')\n",
    "        \n",
    "        else:\n",
    "            print(a,b) \n",
    "            print('binary')\n",
    "    \n",
    "    else:\n",
    "        print(a,b)\n",
    "        print('neither')\n",
    "\n",
    "\"\"\"\n",
    "# problem here is the diagonally movements\n",
    "# we are supposed to make sure the movement is not diagonally maybe\n"
   ]
  },
  {
   "cell_type": "markdown",
   "metadata": {},
   "source": [
    "### Chanukah Challenge"
   ]
  },
  {
   "cell_type": "code",
   "execution_count": null,
   "metadata": {},
   "outputs": [],
   "source": [
    "p = int(input())\n",
    "\n",
    "for i in range(p):\n",
    "    k,n = [int(i)for i in input().split()]\n",
    "    candles = sum([i for i in range(n+1)]) + n\n",
    "    print(k, candles)\n"
   ]
  },
  {
   "cell_type": "markdown",
   "metadata": {},
   "source": [
    "### baterup"
   ]
  },
  {
   "cell_type": "code",
   "execution_count": null,
   "metadata": {},
   "outputs": [],
   "source": [
    "number_rounds = input()\n",
    "rounds = [i for i in input().split()]\n",
    "walks = 0\n",
    "for i in rounds:\n",
    "    if i == '-1':\n",
    "        walks += 1\n",
    "    i.replace('-1','0')\n",
    "\n",
    "rounds = [i.replace('-1','0') for i in rounds]\n",
    "rounds = list(map(lambda x: int(x), rounds)) \n",
    "\n",
    "\n",
    "print(sum(rounds)/(int(number_rounds)-walks))\n"
   ]
  },
  {
   "cell_type": "markdown",
   "metadata": {},
   "source": [
    "#### Bela"
   ]
  },
  {
   "cell_type": "code",
   "execution_count": null,
   "metadata": {},
   "outputs": [],
   "source": [
    "N,S = [i for i in input().split()]\n",
    "scores = {\"A\":{\"Dominent\":11,\"Non Dominent\":11},\"K\":{\"Dominent\":4,\"Non Dominent\":4},\"Q\":{\"Dominent\":3,\"Non Dominent\":3},\"J\":{\"Dominent\":20,\"Non Dominent\":2},\"T\":{\"Dominent\":10,\"Non Dominent\":10},\"9\":{\"Dominent\":14,\"Non Dominent\":0},\"8\":{\"Dominent\":0,\"Non Dominent\":0},\"7\":{\"Dominent\":0,\"Non Dominent\":0}}\n",
    "results = []\n",
    "\n",
    "for i in range (4*int(N)):\n",
    "    hand = list(input())\n",
    "    for key,value in scores.items():\n",
    "\n",
    "        if hand[0] == key:\n",
    "            if hand[1] == S:\n",
    "                score = scores[key]['Dominent']\n",
    "                results.append(score)\n",
    "            else:\n",
    "                score = scores[key]['Non Dominent']\n",
    "                results.append(score)\n",
    "\n",
    "print(sum(results))"
   ]
  },
  {
   "cell_type": "markdown",
   "metadata": {},
   "source": [
    "#### 0-1 sequence"
   ]
  },
  {
   "cell_type": "code",
   "execution_count": null,
   "metadata": {},
   "outputs": [],
   "source": [
    "## Alternative thoughts \n",
    "# \n",
    "# https://github.com/JonSteinn/Kattis-Solutions/blob/master/src/0-1%20Sequences/Python%203/main.py \n",
    "\n",
    "## The original thought process \n",
    "# https://codereview.stackexchange.com/questions/269223/counting-swaps-in-a-sequence-sorting-algorithm\n",
    "\n",
    "initial_list = list(input())\n",
    "\n",
    "def inversions(initial_list):\n",
    "    mod = 10**9 + 7 \n",
    "    string = 1\n",
    "    ones = 0\n",
    "    inversions = 0\n",
    "    for position,value in enumerate(initial_list):\n",
    "        if value == '0':\n",
    "            inversions = (inversions + ones) % mod\n",
    "        \n",
    "        elif value == '1':\n",
    "            ones = (ones+string) % mod\n",
    "\n",
    "        else:\n",
    "            inversions = (inversions * 2 + ones) % mod\n",
    "            ones = (ones * 2 + string) % mod\n",
    "            string = string * 2 % mod\n",
    "\n",
    "    return inversions\n",
    "\n",
    "inversions(initial_list=initial_list)"
   ]
  },
  {
   "cell_type": "markdown",
   "metadata": {},
   "source": [
    "#### 4thought"
   ]
  },
  {
   "cell_type": "code",
   "execution_count": null,
   "metadata": {},
   "outputs": [],
   "source": [
    "testcases = int(input())\n",
    "# testing using dict, do not know how to proceed\n",
    "operators = {\n",
    "             '+': lambda x: x+x\n",
    "            ,'-': lambda x: x-x\n",
    "            ,'/': lambda x: x/x\n",
    "            ,'*': lambda x: x*x \n",
    "            }\n",
    "operators = ['+','-','*','/']\n",
    "possible_values= {}\n",
    "for p in operators:\n",
    "    for m in operators:\n",
    "        for t in operators:\n",
    "            string_value = '4 {:s} 4 {:s} 4 {:s} 4'.format(p, m, t)\n",
    "            values = float(eval(string_value))\n",
    "            possible_values[values] = string_value\n",
    "\n",
    "\n",
    "for i in range (testcases):\n",
    "    n = int(input())\n",
    "    if n not in possible_values:\n",
    "            print('no solution')\n",
    "    else:\n",
    "            print(f'{possible_values[n]} = {n}')\n"
   ]
  },
  {
   "attachments": {},
   "cell_type": "markdown",
   "metadata": {},
   "source": [
    "#### knight packing "
   ]
  },
  {
   "cell_type": "code",
   "execution_count": null,
   "metadata": {},
   "outputs": [],
   "source": [
    "n = int(input())\n",
    "\n",
    "if (n%2) == 0:\n",
    "    print('second')\n",
    "else:\n",
    "    print('first')"
   ]
  },
  {
   "cell_type": "markdown",
   "metadata": {},
   "source": [
    "#### CPR number"
   ]
  },
  {
   "cell_type": "code",
   "execution_count": 17,
   "metadata": {},
   "outputs": [
    {
     "name": "stdout",
     "output_type": "stream",
     "text": [
      "1\n"
     ]
    }
   ],
   "source": [
    "CPR = [(int(i)) for i in list(input()) if i != '-' ]\n",
    "s_values = [int(j) for j in list('4327654321')]\n",
    "\n",
    "if (sum([CPR[i]*s_values[i] for i in range(len(CPR))])%11) == 0:\n",
    "    print('1')\n",
    "else:\n",
    "    print('0')"
   ]
  },
  {
   "cell_type": "markdown",
   "metadata": {},
   "source": [
    "#### Aaah!"
   ]
  },
  {
   "cell_type": "code",
   "execution_count": 2,
   "metadata": {},
   "outputs": [
    {
     "name": "stdout",
     "output_type": "stream",
     "text": [
      "go\n"
     ]
    }
   ],
   "source": [
    "input1 = list(input())\n",
    "input2 = list(input())\n",
    "\n",
    "if len(input1) < len(input2):\n",
    "    print('no')\n",
    "else: \n",
    "    print('go')\n"
   ]
  },
  {
   "cell_type": "markdown",
   "metadata": {},
   "source": [
    "#### Metronome"
   ]
  },
  {
   "cell_type": "code",
   "execution_count": 5,
   "metadata": {},
   "outputs": [
    {
     "name": "stdout",
     "output_type": "stream",
     "text": [
      "24.75\n"
     ]
    }
   ],
   "source": [
    "length = int(input())\n",
    "print(f'{(length/4):.2f}')"
   ]
  }
 ],
 "metadata": {
  "kernelspec": {
   "display_name": "Python 3",
   "language": "python",
   "name": "python3"
  },
  "language_info": {
   "codemirror_mode": {
    "name": "ipython",
    "version": 3
   },
   "file_extension": ".py",
   "mimetype": "text/x-python",
   "name": "python",
   "nbconvert_exporter": "python",
   "pygments_lexer": "ipython3",
   "version": "3.11.1"
  },
  "orig_nbformat": 4,
  "vscode": {
   "interpreter": {
    "hash": "aee8b7b246df8f9039afb4144a1f6fd8d2ca17a180786b69acc140d282b71a49"
   }
  }
 },
 "nbformat": 4,
 "nbformat_minor": 2
}

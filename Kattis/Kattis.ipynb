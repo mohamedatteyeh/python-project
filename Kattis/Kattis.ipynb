{
 "cells": [
  {
   "cell_type": "markdown",
   "metadata": {},
   "source": [
    "### Kattis Numberfun"
   ]
  },
  {
   "cell_type": "code",
   "execution_count": null,
   "metadata": {},
   "outputs": [],
   "source": [
    "tests = int(input())\n",
    "\n",
    "\n",
    "for i in range(tests):\n",
    "    a,b,c= input().split()\n",
    "\n",
    "    a,b,c= int(a),int(b),int(c)\n",
    "\n",
    "    if ((a+b) == c)|((a*b) == c):\n",
    "        print('possible')\n",
    "\n",
    "    elif((a-b)==c ) | ((b-a) == c)| ((a/b) == c)| ((b/a) == c):\n",
    "        print('possible')\n",
    "\n",
    "    else: print('impossible')\n"
   ]
  },
  {
   "cell_type": "markdown",
   "metadata": {},
   "source": [
    "### Sort two numbers"
   ]
  },
  {
   "cell_type": "code",
   "execution_count": null,
   "metadata": {},
   "outputs": [],
   "source": [
    "a,b = input().split()\n",
    "if int(a) > int(b):\n",
    "    print(b,a)\n",
    "else:\n",
    "    print(a,b) "
   ]
  },
  {
   "cell_type": "markdown",
   "metadata": {},
   "source": [
    "### Shattered Cake"
   ]
  },
  {
   "cell_type": "code",
   "execution_count": null,
   "metadata": {},
   "outputs": [],
   "source": [
    "W = input()\n",
    "N = input()\n",
    "A = 0 \n",
    "for _ in range(int(N)):\n",
    "    w,l = input().split()\n",
    "    A += int(w)*int(l)\n",
    "\n",
    "print(int(A/int(W)))\n",
    "\n"
   ]
  },
  {
   "cell_type": "markdown",
   "metadata": {},
   "source": [
    "### Nasty Hacks\n"
   ]
  },
  {
   "cell_type": "code",
   "execution_count": null,
   "metadata": {},
   "outputs": [],
   "source": [
    "n = int(input())\n",
    "\n",
    "for _ in range(n):\n",
    "    r,e,c = input().split()\n",
    "    if (int(e)-int(c)) > int(r):\n",
    "        print('advertise')\n",
    "    elif (int(e)-int(c)) < int(r):\n",
    "        print(' do not advertise')\n",
    "    else: \n",
    "        print('Does not matter')\n",
    "        \n",
    "\n"
   ]
  },
  {
   "cell_type": "markdown",
   "metadata": {},
   "source": [
    "### last factorial "
   ]
  },
  {
   "cell_type": "code",
   "execution_count": null,
   "metadata": {},
   "outputs": [],
   "source": [
    "T = input()\n",
    "for i in range(int(T)):\n",
    "    N = input()\n",
    "    fac = 1\n",
    "    for j in range(1,int(N)+1):\n",
    "        fac = fac*j\n",
    "    fac = [int(a) for a in str(fac)]\n",
    "    print(fac[-1])"
   ]
  },
  {
   "cell_type": "markdown",
   "metadata": {},
   "source": [
    "### Jumbo javalin"
   ]
  },
  {
   "cell_type": "code",
   "execution_count": null,
   "metadata": {},
   "outputs": [],
   "source": [
    "N = input()\n",
    "sm = 0\n",
    "for i in range(int(N)):\n",
    "    a = int(input()) \n",
    "    sm += a \n",
    "\n",
    "print(sm +1 - int(N))"
   ]
  },
  {
   "cell_type": "markdown",
   "metadata": {},
   "source": [
    "### Magic trick"
   ]
  },
  {
   "cell_type": "code",
   "execution_count": null,
   "metadata": {},
   "outputs": [],
   "source": [
    "s = input()\n",
    "splt = list(s)\n",
    "p = [0 if splt.count(str(i)) > 1 else 1 for i in splt]\n",
    "if sum(p) == len(p):\n",
    "    print(1)\n",
    "else: \n",
    "    print(0)\n"
   ]
  },
  {
   "cell_type": "markdown",
   "metadata": {},
   "source": [
    "### knot knowledge"
   ]
  },
  {
   "cell_type": "code",
   "execution_count": null,
   "metadata": {},
   "outputs": [],
   "source": [
    "number_of_knots = int(input())\n",
    "need_to_learn_knots = input().split()\n",
    "learned_knots = list(input().split())\n",
    "for i in list(need_to_learn_knots):\n",
    "\n",
    "    if i not in learned_knots:\n",
    "        print(i)\n"
   ]
  },
  {
   "cell_type": "markdown",
   "metadata": {},
   "source": [
    "### Autori"
   ]
  },
  {
   "cell_type": "code",
   "execution_count": null,
   "metadata": {},
   "outputs": [],
   "source": [
    "joint = []\n",
    "Name_convention = input()\n",
    "convention_split = Name_convention.split('-')\n",
    "for i in convention_split:\n",
    "    joint.append(i[0])\n",
    "\n",
    "print(''.join(joint))"
   ]
  },
  {
   "cell_type": "markdown",
   "metadata": {},
   "source": [
    "### Homework"
   ]
  },
  {
   "cell_type": "code",
   "execution_count": null,
   "metadata": {},
   "outputs": [],
   "source": [
    "Homework_input = list(input())\n",
    "sum_exercises = 0\n",
    "sum_seperator = 0\n",
    "\n",
    "for i in range(len(Homework_input)):\n",
    "    if Homework_input[i] == '-':\n",
    "        a = int(Homework_input[i-1])\n",
    "        b = int(Homework_input[i+1])\n",
    "        sum_exercises += b-a+1\n",
    "    elif Homework_input[i] == ';':\n",
    "        sum_seperator += 1\n",
    "    else:\n",
    "        continue\n",
    "\n",
    "print(sum_exercises + sum_seperator + 1)\n"
   ]
  },
  {
   "cell_type": "code",
   "execution_count": null,
   "metadata": {},
   "outputs": [],
   "source": [
    "Hw = input().split(';')\n",
    "sum_s = 0\n",
    "sum_e = 0\n",
    "for i in range(len(Hw)):\n",
    "    if len(Hw[i].split('-')) == 2:\n",
    "        spl = Hw[i].split('-')\n",
    "        b = int(spl[-1])\n",
    "        a = int(spl[0])\n",
    "        sum_e += b-a+1\n",
    "    else:\n",
    "        sum_s +=1\n",
    "\n",
    "print(sum_e+sum_s)"
   ]
  },
  {
   "cell_type": "code",
   "execution_count": null,
   "metadata": {},
   "outputs": [],
   "source": [
    "Hw1 = input().split(';')\n",
    "k= [i.split('-') for i in Hw1 if len(i.split('-')) == 2 else]\n",
    "\n",
    "print(Hw1)"
   ]
  },
  {
   "cell_type": "markdown",
   "metadata": {},
   "source": [
    "### Jack o Lantern"
   ]
  },
  {
   "cell_type": "code",
   "execution_count": null,
   "metadata": {},
   "outputs": [],
   "source": [
    "N,T,M = [int(i) for i in input().split()]\n",
    "\n",
    "#input_values.split()[0],input_values.split()[1],input_values.split()[2]\n",
    "\n",
    "print( int(N)*int(T)*int(M))"
   ]
  },
  {
   "cell_type": "markdown",
   "metadata": {},
   "source": [
    "### odd echo"
   ]
  },
  {
   "cell_type": "code",
   "execution_count": null,
   "metadata": {},
   "outputs": [],
   "source": [
    "N = int(input())\n",
    "words = []\n",
    "for i in range(N):\n",
    "    wordsinput = input()\n",
    "    words.append(wordsinput)\n",
    "\n",
    "for i in range(0,len(words),2):\n",
    "    print(words[i])"
   ]
  },
  {
   "cell_type": "markdown",
   "metadata": {},
   "source": [
    "### Which is greater"
   ]
  },
  {
   "cell_type": "code",
   "execution_count": null,
   "metadata": {},
   "outputs": [],
   "source": [
    "a,b = [int(i) for i in input().split()]\n",
    "if a > b :\n",
    "    print (1)\n",
    "else:\n",
    "    print(0)"
   ]
  },
  {
   "cell_type": "markdown",
   "metadata": {},
   "source": [
    "### Two sum"
   ]
  },
  {
   "cell_type": "code",
   "execution_count": null,
   "metadata": {},
   "outputs": [],
   "source": [
    "a,b = [int(i) for i in input().split()]\n",
    "print(a+b)"
   ]
  },
  {
   "cell_type": "markdown",
   "metadata": {},
   "source": [
    "### Triangle Area"
   ]
  },
  {
   "cell_type": "code",
   "execution_count": null,
   "metadata": {},
   "outputs": [],
   "source": [
    "h,g = [int(i) for i in input().split()]\n",
    "\n",
    "print(0.5*g*h)"
   ]
  },
  {
   "cell_type": "markdown",
   "metadata": {},
   "source": [
    "### Growling Gears"
   ]
  },
  {
   "cell_type": "code",
   "execution_count": 37,
   "metadata": {},
   "outputs": [
    {
     "name": "stdout",
     "output_type": "stream",
     "text": [
      "2\n"
     ]
    }
   ],
   "source": [
    "num_of_tests = int(input())\n",
    "for _ in range(num_of_tests): \n",
    "    numberOfGears = int(input())\n",
    "    max_torque = 0\n",
    "    gear_number= None \n",
    "    for gearNumber in range(1,numberOfGears+1):\n",
    "        a,b,c = [int(i) for i in input().split()]\n",
    "        r = b / (2 * a)\n",
    "        torque_curve = (-a*r**2)+(b*r)+c\n",
    "        if max_torque < torque_curve:\n",
    "            max_torque = torque_curve\n",
    "            gear_number = gearNumber\n",
    "    \n",
    "    print(gear_number)\n",
    "\n"
   ]
  },
  {
   "cell_type": "markdown",
   "metadata": {},
   "source": [
    "### Betting"
   ]
  },
  {
   "cell_type": "code",
   "execution_count": 41,
   "metadata": {},
   "outputs": [
    {
     "name": "stdout",
     "output_type": "stream",
     "text": [
      "1.25\n"
     ]
    }
   ],
   "source": [
    "a = 80 \n",
    "b = 100-a\n",
    "\n",
    "print(100/20)"
   ]
  },
  {
   "cell_type": "markdown",
   "metadata": {},
   "source": [
    "### R2"
   ]
  },
  {
   "cell_type": "code",
   "execution_count": 2,
   "metadata": {},
   "outputs": [
    {
     "name": "stdout",
     "output_type": "stream",
     "text": [
      "19\n"
     ]
    }
   ],
   "source": [
    "R1,S = [int(i) for i in input().split(' ')]\n",
    "\n",
    "R2 = 2*S - R1\n",
    "\n",
    "print(R2)"
   ]
  },
  {
   "cell_type": "markdown",
   "metadata": {},
   "source": [
    " ### N_Sum"
   ]
  },
  {
   "cell_type": "code",
   "execution_count": 7,
   "metadata": {},
   "outputs": [
    {
     "name": "stdout",
     "output_type": "stream",
     "text": [
      "15\n"
     ]
    }
   ],
   "source": [
    "N = int(input())\n",
    "sum_numbers = map(int,input().split())\n",
    "#sum_numbers = [int(i) for i in input().split()]\n",
    "print(sum(sum_numbers))\n",
    "\n"
   ]
  },
  {
   "cell_type": "markdown",
   "metadata": {},
   "source": [
    "### Cold-puter Science"
   ]
  },
  {
   "cell_type": "code",
   "execution_count": null,
   "metadata": {},
   "outputs": [],
   "source": [
    "collections = input()\n",
    "temps = input().split(' ')\n",
    "number = 0\n",
    "for i in temps:\n",
    "    i = int(i)\n",
    "    if i < 0:\n",
    "        number+=1"
   ]
  },
  {
   "cell_type": "markdown",
   "metadata": {},
   "source": [
    "### Chanukah Challenge"
   ]
  },
  {
   "cell_type": "code",
   "execution_count": null,
   "metadata": {},
   "outputs": [],
   "source": [
    "p = int(input())\n",
    "\n",
    "for i in range(p):\n",
    "    k,n = [int(i)for i in input().split()]\n",
    "    candles = sum([i for i in range(n+1)]) + n\n",
    "    print(k, candles)\n"
   ]
  },
  {
   "cell_type": "markdown",
   "metadata": {},
   "source": [
    "### baterup"
   ]
  },
  {
   "cell_type": "code",
   "execution_count": null,
   "metadata": {},
   "outputs": [],
   "source": [
    "number_rounds = input()\n",
    "rounds = [i for i in input().split()]\n",
    "walks = 0\n",
    "for i in rounds:\n",
    "    if i == '-1':\n",
    "        walks += 1\n",
    "    i.replace('-1','0')\n",
    "\n",
    "rounds = [i.replace('-1','0') for i in rounds]\n",
    "rounds = list(map(lambda x: int(x), rounds)) \n",
    "\n",
    "\n",
    "print(sum(rounds)/(int(number_rounds)-walks))\n"
   ]
  },
  {
   "cell_type": "markdown",
   "metadata": {},
   "source": [
    "#### Heart Rate"
   ]
  },
  {
   "cell_type": "code",
   "execution_count": 18,
   "metadata": {},
   "outputs": [
    {
     "name": "stdout",
     "output_type": "stream",
     "text": [
      "60.0000 72.0000 84.0000\n",
      "19.2172 38.4344 57.6517\n"
     ]
    }
   ],
   "source": [
    "N = int(input())\n",
    "\n",
    "for _ in range (N):\n",
    "    BPM = None\n",
    "    ABPM_minimum = None\n",
    "    ABPM_maximum = None\n",
    "    b,p = [float(i) for i in input().split()]\n",
    "    difference = 60/p\n",
    "    BPM = (60*b)/p\n",
    "    ABPM_maximum = BPM + difference\n",
    "    ABPM_minimum = BPM - difference\n",
    "\n",
    "    print('%.4f %.4f %.4f' %(ABPM_minimum,BPM,ABPM_maximum))\n",
    "\n",
    "    \n"
   ]
  },
  {
   "cell_type": "markdown",
   "metadata": {},
   "source": [
    "### Finding an A"
   ]
  },
  {
   "cell_type": "code",
   "execution_count": 6,
   "metadata": {},
   "outputs": [
    {
     "name": "stdout",
     "output_type": "stream",
     "text": [
      "ananana\n"
     ]
    }
   ],
   "source": [
    "sentance_with_a = list(input())\n",
    "first_a = sentance_with_a.index('a')\n",
    "sentance_with_a = sentance_with_a[first_a:]\n",
    "\n",
    "print(''.join(sentance_with_a))\n",
    "        "
   ]
  },
  {
   "cell_type": "markdown",
   "metadata": {},
   "source": [
    "### Grass seed inc"
   ]
  },
  {
   "cell_type": "code",
   "execution_count": 13,
   "metadata": {},
   "outputs": [
    {
     "name": "stdout",
     "output_type": "stream",
     "text": [
      "16.6796025\n"
     ]
    }
   ],
   "source": [
    "cost = input()\n",
    "number_of_lawns = int(input())\n",
    "total_area = 0\n",
    "for i in range(number_of_lawns):\n",
    "    w,l= [float(i) for i in input().split(' ')]\n",
    "    total_area += w*l\n",
    "\n",
    "print(f'{total_area*float(cost):.7f}')"
   ]
  },
  {
   "cell_type": "markdown",
   "metadata": {},
   "source": [
    "#### GCVWR"
   ]
  },
  {
   "cell_type": "code",
   "execution_count": 14,
   "metadata": {},
   "outputs": [],
   "source": [
    "G,T,N = [int(i) for i in input().split(' ')]\n",
    "weight_items = sum(int(i) for i in input().split(' '))\n",
    "wanted_weight = (G-T)*0.9\n",
    "max_weight= wanted_weight-weight_items\n",
    "\n",
    "print(int(max_weight))"
   ]
  },
  {
   "cell_type": "markdown",
   "metadata": {},
   "source": [
    "### FYI "
   ]
  },
  {
   "cell_type": "code",
   "execution_count": 33,
   "metadata": {},
   "outputs": [
    {
     "name": "stdout",
     "output_type": "stream",
     "text": [
      "0\n"
     ]
    }
   ],
   "source": [
    "num = [int(i) for i in list(input())]\n",
    "checklist = num[:3]\n",
    "a = 0\n",
    "for i in checklist:\n",
    "    if i == 5:\n",
    "        a+=1\n",
    "    else:\n",
    "        continue\n",
    "\n",
    "if a == 3: \n",
    "    print(1)\n",
    "else: \n",
    "    print(0)\n",
    "\n",
    "\n",
    "\n",
    "phoneNumber = input()\n",
    "prefix = phoneNumber[:3]\n",
    "if prefix == \"555\":\n",
    "    print(1)\n",
    "else:\n",
    "    print(0)"
   ]
  },
  {
   "cell_type": "markdown",
   "metadata": {},
   "source": [
    "### FILIP"
   ]
  },
  {
   "cell_type": "code",
   "execution_count": 72,
   "metadata": {},
   "outputs": [
    {
     "name": "stdout",
     "output_type": "stream",
     "text": [
      "437\n"
     ]
    }
   ],
   "source": [
    "# You\n",
    "A,B = [i for i in list(input().split(' '))]\n",
    "A,B = [i for i in A],[i for i in B] \n",
    "\n",
    "if A[-1] > B[-1]:\n",
    "    A.reverse()\n",
    "    print(''.join(A))\n",
    "elif B[-1] > A[-1]:\n",
    "    B.reverse()\n",
    "    print(''.join(B))\n",
    "else:\n",
    "    if A > B: \n",
    "        A.reverse()\n",
    "        print(''.join(A))\n",
    "    else:\n",
    "        B.reverse()\n",
    "        print(''.join(B))\n",
    "\n",
    "# The guy she told you not to worry about\n",
    "data = input().split()\n",
    "value1 = int(data[0][::-1]) #[ start:stop:step size]\n",
    "value2 = int(data[1][::-1])\n",
    "\n",
    "largestValue = max(value1, value2)\n",
    "print(value1)"
   ]
  },
  {
   "cell_type": "markdown",
   "metadata": {},
   "source": [
    "### ODDETIES"
   ]
  },
  {
   "cell_type": "code",
   "execution_count": 2,
   "metadata": {},
   "outputs": [
    {
     "name": "stdout",
     "output_type": "stream",
     "text": [
      "10 is even\n",
      "9 is odd\n",
      "-5 is odd\n"
     ]
    }
   ],
   "source": [
    "N = int(input())\n",
    "\n",
    "for i in range(N):\n",
    "    number = int(input())\n",
    "    if (number%2) == 0:\n",
    "        print(f'{number} is even')\n",
    "    else: ''\n",
    "        print(f'{number} is odd')"
   ]
  },
  {
   "cell_type": "markdown",
   "metadata": {},
   "source": [
    "### Eye of Sauron"
   ]
  },
  {
   "cell_type": "code",
   "execution_count": 16,
   "metadata": {},
   "outputs": [
    {
     "name": "stdout",
     "output_type": "stream",
     "text": [
      "| (\n",
      "fix\n"
     ]
    }
   ],
   "source": [
    "structure = input()\n",
    "length = len(structure)\n",
    "eye1 = structure[round((length/2))-1]\n",
    "eye2 = structure[-round((length/2))]\n",
    "\n",
    "\n",
    "\n",
    "if length%2 != 0:\n",
    "    print('fix')\n",
    "\n",
    "elif eye1 == '(' and eye2 == ')':\n",
    "    print('correct')\n",
    "\n",
    "else: \n",
    "    print('fix')\n",
    "\n",
    "\n",
    "\n",
    "left,right = input().split('()')\n",
    "\n",
    "if left == right:\n",
    "    print('corrct')\n",
    "else: \n",
    "    print('fix')\n"
   ]
  },
  {
   "cell_type": "markdown",
   "metadata": {},
   "source": [
    "### Digit swap "
   ]
  },
  {
   "cell_type": "code",
   "execution_count": 21,
   "metadata": {},
   "outputs": [
    {
     "name": "stdout",
     "output_type": "stream",
     "text": [
      "42\n"
     ]
    }
   ],
   "source": [
    "a = list(input())\n",
    "a.reverse()\n",
    "b = ''.join(a)\n",
    "#b = a[::-1]\n",
    "print(b)\n",
    "\n",
    "a = input()\n",
    "b = a[::-1]\n",
    "print(b)"
   ]
  },
  {
   "cell_type": "markdown",
   "metadata": {},
   "source": [
    "### Dice cup"
   ]
  },
  {
   "cell_type": "code",
   "execution_count": 34,
   "metadata": {},
   "outputs": [
    {
     "name": "stdout",
     "output_type": "stream",
     "text": [
      "5\n",
      "6\n",
      "7\n"
     ]
    }
   ],
   "source": [
    "dice1, dice2 = [int(i) for i in input().split(' ')]\n",
    "possibilities = [] \n",
    "for i in range(1,dice1+1):\n",
    "    for j in range(1,dice2+1):\n",
    "        possibilities.append(i+j)\n",
    "\n",
    "counts =  {}\n",
    "\n",
    "for item in possibilities:\n",
    "    if item in counts:\n",
    "        counts[item] +=1\n",
    "    else: \n",
    "        counts[item] = 1\n",
    "counts = sorted(counts.items(), key = lambda x: x[1], reverse=True)\n",
    "\n",
    "for i in range(0,len(counts)):\n",
    "    if counts[0][1] == counts[i][1]:\n",
    "        print(counts[i][0])\n"
   ]
  },
  {
   "cell_type": "markdown",
   "metadata": {},
   "source": [
    "### Count the Vowels"
   ]
  },
  {
   "cell_type": "code",
   "execution_count": 36,
   "metadata": {},
   "outputs": [
    {
     "name": "stdout",
     "output_type": "stream",
     "text": [
      "14\n"
     ]
    }
   ],
   "source": [
    "vowels = ['I','O','U','A','E']\n",
    "s = list(input().upper())\n",
    "counter = 0\n",
    "for letter in s:\n",
    "    if letter in vowels:\n",
    "        counter +=1\n",
    "\n",
    "print(counter)"
   ]
  },
  {
   "cell_type": "markdown",
   "metadata": {},
   "source": [
    "### simple polygon"
   ]
  },
  {
   "cell_type": "code",
   "execution_count": 21,
   "metadata": {},
   "outputs": [],
   "source": [
    "num_points = int(input())\n",
    "def polygon_coords(num_points):\n",
    "    coordinates= []\n",
    "\n",
    "    for _ in range(num_points):\n",
    "        x,y = [int(i) for i in input().split(' ')] \n",
    "        coordinates.append((x,y))\n",
    "    \n",
    "    coordinates.append(coordinates[0])\n",
    "\n",
    "    return coordinates\n",
    "\n",
    "cords = polygon_coords(num_points)"
   ]
  },
  {
   "cell_type": "code",
   "execution_count": 22,
   "metadata": {},
   "outputs": [
    {
     "name": "stdout",
     "output_type": "stream",
     "text": [
      "[(1, 6), (5, 7), (9, 4), (2, 3), (6, 1), (1, 6)]\n"
     ]
    }
   ],
   "source": [
    "print(cords)"
   ]
  },
  {
   "cell_type": "code",
   "execution_count": 33,
   "metadata": {},
   "outputs": [],
   "source": [
    "def polygon_lines(cords):\n",
    "    lines = []\n",
    "    length_lines = len(cords)\n",
    "    for i in range(0,length_lines-1,1):\n",
    "        lines.append((cords[i],cords[i+1]))\n",
    "    return lines\n",
    "\n",
    "lines = polygon_lines(cords)"
   ]
  },
  {
   "cell_type": "code",
   "execution_count": 126,
   "metadata": {},
   "outputs": [],
   "source": [
    "def check_intersection(line_points1,line_points2):\n",
    "    \n",
    "    p11,p12 = zip(*line_points1)\n",
    "    p21,p22 = zip(*line_points2)\n",
    "\n",
    "    xdif = ((p11[0])-(p11[1]), (p21[0])- (p21[1]))\n",
    "    ydif = ((p12[0])-(p12[1]), (p22[0])- (p22[1]))\n",
    "\n",
    "    def det(a,b):\n",
    "        return a[0]*b[1] - a[1]*b[0]\n",
    "\n",
    "    div = det(xdif,ydif)\n",
    "\n",
    "    d = (det(*line_points1),det(*line_points2))\n",
    "    x = det(d,xdif)/div\n",
    "    y = det(d,ydif)/div\n",
    "    intersect = (int(x),int(y))\n",
    "\n",
    "    if intersect not in line_points1:\n",
    "        if div == 0:\n",
    "            return ('No')\n",
    "        else:\n",
    "            return ('yes',intersect)\n",
    "    else: \n",
    "        return('No')"
   ]
  },
  {
   "cell_type": "code",
   "execution_count": 127,
   "metadata": {},
   "outputs": [
    {
     "name": "stdout",
     "output_type": "stream",
     "text": [
      "('yes', (-28, -1))\n",
      "((1, 6), (5, 7)) ((9, 4), (2, 3))\n"
     ]
    }
   ],
   "source": [
    "print(check_intersection(lines[0],lines[2]))\n",
    "print(lines[0],lines[2])"
   ]
  },
  {
   "cell_type": "code",
   "execution_count": 122,
   "metadata": {},
   "outputs": [
    {
     "name": "stdout",
     "output_type": "stream",
     "text": [
      "((1, 6), (5, 7)) ((5, 7), (9, 4))\n",
      "((1, 6), (5, 7)) ((9, 4), (2, 3))\n",
      "((1, 6), (5, 7)) ((2, 3), (6, 1))\n",
      "((1, 6), (5, 7)) ((6, 1), (1, 6))\n",
      "((5, 7), (9, 4)) ((9, 4), (2, 3))\n",
      "((5, 7), (9, 4)) ((2, 3), (6, 1))\n",
      "((5, 7), (9, 4)) ((6, 1), (1, 6))\n",
      "((9, 4), (2, 3)) ((2, 3), (6, 1))\n",
      "((9, 4), (2, 3)) ((6, 1), (1, 6))\n",
      "((2, 3), (6, 1)) ((6, 1), (1, 6))\n"
     ]
    }
   ],
   "source": [
    "check_all_the_lines(lines)"
   ]
  },
  {
   "cell_type": "code",
   "execution_count": 108,
   "metadata": {},
   "outputs": [
    {
     "name": "stdout",
     "output_type": "stream",
     "text": [
      "[((1, 6), (5, 7)), ((5, 7), (9, 4)), ((9, 4), (2, 3)), ((2, 3), (6, 1)), ((6, 1), (1, 6))]\n"
     ]
    }
   ],
   "source": [
    "print(lines)"
   ]
  },
  {
   "cell_type": "code",
   "execution_count": null,
   "metadata": {},
   "outputs": [],
   "source": [
    "Intersection works, need to create limits since the lines cross each other at a later point in the code "
   ]
  },
  {
   "cell_type": "code",
   "execution_count": 120,
   "metadata": {},
   "outputs": [],
   "source": [
    "def check_all_the_lines(lines):\n",
    "    length = int(len(lines))\n",
    "    #part2 = len(lines) - part1\n",
    "    bla = []\n",
    "    for i in range(length):\n",
    "        for j in range(i+1,length):\n",
    "            print(lines[i],lines[j])\n",
    "            #bla.append(check_intersection(lines[i],lines[j]))\n",
    "    \n",
    "    #return(bla)\n",
    "    #return()\n",
    "\n"
   ]
  },
  {
   "cell_type": "code",
   "execution_count": 121,
   "metadata": {},
   "outputs": [
    {
     "name": "stdout",
     "output_type": "stream",
     "text": [
      "((1, 6), (5, 7)) ((5, 7), (9, 4))\n",
      "((1, 6), (5, 7)) ((9, 4), (2, 3))\n",
      "((1, 6), (5, 7)) ((2, 3), (6, 1))\n",
      "((1, 6), (5, 7)) ((6, 1), (1, 6))\n",
      "((5, 7), (9, 4)) ((9, 4), (2, 3))\n",
      "((5, 7), (9, 4)) ((2, 3), (6, 1))\n",
      "((5, 7), (9, 4)) ((6, 1), (1, 6))\n",
      "((9, 4), (2, 3)) ((2, 3), (6, 1))\n",
      "((9, 4), (2, 3)) ((6, 1), (1, 6))\n",
      "((2, 3), (6, 1)) ((6, 1), (1, 6))\n"
     ]
    }
   ],
   "source": [
    "check_all_the_lines(lines)"
   ]
  },
  {
   "cell_type": "code",
   "execution_count": 104,
   "metadata": {},
   "outputs": [
    {
     "data": {
      "image/png": "[encoded data removed]",
      "text/plain": [
       "<Figure size 432x288 with 1 Axes>"
      ]
     },
     "metadata": {},
     "output_type": "display_data"
    }
   ],
   "source": [
    "import matplotlib.pyplot as plt\n",
    "\n",
    "#cords1 = [(1, 6), (6, 8), (10, 5), (3, 4), (7, 2), (2, 7)]\n",
    "cords2 = [(1, 6), (5, 7), (9, 4), (2, 3), (6, 1), (1, 6)]\n",
    "\n",
    "#x,y = zip(*cords1)\n",
    "x1,y1 = zip(*cords2)\n",
    "\n",
    "#x = [int(x) for x in x]\n",
    "#y = [int(y) for y in y]\n",
    "\n",
    "\n",
    "x1 = [int(x1) for x1 in x1]\n",
    "y1 = [int(y1) for y1 in y1]\n",
    "\n",
    "\n",
    "#plt.plot(x,y)\n",
    "plt.plot(x1,y1)\n",
    "\n",
    "plt.show()\n",
    "\n",
    "#print(x)\n",
    "\n"
   ]
  },
  {
   "cell_type": "code",
   "execution_count": 28,
   "metadata": {},
   "outputs": [
    {
     "data": {
      "image/png": "[encoded data removed]",
      "text/plain": [
       "<Figure size 432x288 with 1 Axes>"
      ]
     },
     "metadata": {},
     "output_type": "display_data"
    }
   ],
   "source": [
    "\n",
    "import matplotlib.pyplot as plt\n",
    "\n",
    "\n",
    "x,y = zip(*polygon_coordinates_2)\n",
    "\n",
    "x = [int(x) for x in x]\n",
    "y = [int(y) for y in y]\n",
    "\n",
    "plt.plot(x,y)\n",
    "\n",
    "plt.show()\n",
    "\n"
   ]
  },
  {
   "cell_type": "code",
   "execution_count": 9,
   "metadata": {},
   "outputs": [
    {
     "data": {
      "text/plain": [
       "<function matplotlib.pyplot.show(close=None, block=None)>"
      ]
     },
     "execution_count": 9,
     "metadata": {},
     "output_type": "execute_result"
    },
    {
     "data": {
      "image/png": "[encoded data removed]",
      "text/plain": [
       "<Figure size 432x288 with 1 Axes>"
      ]
     },
     "metadata": {},
     "output_type": "display_data"
    }
   ],
   "source": [
    "#finding all the points between two ponts\n",
    "import matplotlib.pyplot as plt\n",
    "a = ((2,3),(8,10))\n",
    "b = ((8,3),(3,9))\n",
    "c = ((3,3),(9,10))\n",
    "\n",
    "plt.plot(*zip(*a))\n",
    "plt.plot(*zip(*b))\n",
    "plt.plot(*zip(*c))\n",
    "plt.show\n"
   ]
  },
  {
   "cell_type": "code",
   "execution_count": 10,
   "metadata": {},
   "outputs": [
    {
     "data": {
      "text/plain": [
       "'No'"
      ]
     },
     "execution_count": 10,
     "metadata": {},
     "output_type": "execute_result"
    }
   ],
   "source": [
    "check_intersection(a,c)"
   ]
  },
  {
   "cell_type": "code",
   "execution_count": null,
   "metadata": {},
   "outputs": [],
   "source": []
  }
 ],
 "metadata": {
  "kernelspec": {
   "display_name": "Python 3",
   "language": "python",
   "name": "python3"
  },
  "language_info": {
   "codemirror_mode": {
    "name": "ipython",
    "version": 3
   },
   "file_extension": ".py",
   "mimetype": "text/x-python",
   "name": "python",
   "nbconvert_exporter": "python",
   "pygments_lexer": "ipython3",
   "version": "3.11.1 (v3.11.1:a7a450f84a, Dec  6 2022, 15:24:06) [Clang 13.0.0 (clang-1300.0.29.30)]"
  },
  "orig_nbformat": 4,
  "vscode": {
   "interpreter": {
    "hash": "aee8b7b246df8f9039afb4144a1f6fd8d2ca17a180786b69acc140d282b71a49"
   }
  }
 },
 "nbformat": 4,
 "nbformat_minor": 2
}
